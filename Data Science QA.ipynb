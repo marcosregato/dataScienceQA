{
 "cells": [
  {
   "cell_type": "markdown",
   "metadata": {},
   "source": [
    "### Data Science QA, faz parte de uma arquitetura que envolve Teste Funcional, API, banco de dados não relacional (MongoDB) e outros tipos de teste ( ainda não desenvolvidos ).\n",
    "### O objetivo Data Science QA, é recolher informações vindo do API no formato Json e verificar alguma relação entre diversos tipos de teste e os possiveis erros entre o sistema.\n",
    "### A arquitetura ainda esta sendo desenvolvido e é por isso, esse exemplo de Data Science QA tem poucas informações"
   ]
  },
  {
   "cell_type": "markdown",
   "metadata": {},
   "source": [
    "<img src=\"diagrama.png\">"
   ]
  },
  {
   "cell_type": "markdown",
   "metadata": {},
   "source": [
    "# Links dos projeto que fazem parte da Arquitetura de QA \n",
    "\n",
    "[Modelo Teste Funcional](https://github.com/marcosregato/modeloTesteFuncional)\n",
    "\n",
    "[Painel Teste Angular](https://github.com/marcosregato/painelTesteAngular)\n",
    "\n",
    "[Api Teste MongoDB](https://github.com/marcosregato/apiTesteMongoDB)\n",
    "\n",
    "[convert CSV to JSON](https://github.com/marcosregato/convertCSVtoJSON)"
   ]
  },
  {
   "cell_type": "code",
   "execution_count": 25,
   "metadata": {},
   "outputs": [
    {
     "data": {
      "text/html": [
       "<div>\n",
       "<style scoped>\n",
       "    .dataframe tbody tr th:only-of-type {\n",
       "        vertical-align: middle;\n",
       "    }\n",
       "\n",
       "    .dataframe tbody tr th {\n",
       "        vertical-align: top;\n",
       "    }\n",
       "\n",
       "    .dataframe thead th {\n",
       "        text-align: right;\n",
       "    }\n",
       "</style>\n",
       "<table border=\"1\" class=\"dataframe\">\n",
       "  <thead>\n",
       "    <tr style=\"text-align: right;\">\n",
       "      <th></th>\n",
       "      <th>id</th>\n",
       "      <th>nome</th>\n",
       "      <th>email</th>\n",
       "    </tr>\n",
       "  </thead>\n",
       "  <tbody>\n",
       "    <tr>\n",
       "      <th>0</th>\n",
       "      <td>1</td>\n",
       "      <td>teste_1</td>\n",
       "      <td>teste_1@teste_1.com</td>\n",
       "    </tr>\n",
       "    <tr>\n",
       "      <th>1</th>\n",
       "      <td>2</td>\n",
       "      <td>teste_2</td>\n",
       "      <td>teste_2@teste_2.com</td>\n",
       "    </tr>\n",
       "    <tr>\n",
       "      <th>2</th>\n",
       "      <td>3</td>\n",
       "      <td>teste_3</td>\n",
       "      <td>teste_3@teste_3.com</td>\n",
       "    </tr>\n",
       "  </tbody>\n",
       "</table>\n",
       "</div>"
      ],
      "text/plain": [
       "  id     nome                email\n",
       "0  1  teste_1  teste_1@teste_1.com\n",
       "1  2  teste_2  teste_2@teste_2.com\n",
       "2  3  teste_3  teste_3@teste_3.com"
      ]
     },
     "execution_count": 25,
     "metadata": {},
     "output_type": "execute_result"
    }
   ],
   "source": [
    "import pandas as pd\n",
    "import requests\n",
    "import json\n",
    "\n",
    "url = 'http://localhost:8080/api/clientes'\n",
    "\n",
    "infoJson = requests.get(url)\n",
    "txt = infoJson.json()\n",
    "pd.DataFrame(txt['clientes'])\n",
    "\n"
   ]
  }
 ],
 "metadata": {
  "kernelspec": {
   "display_name": "Python 3",
   "language": "python",
   "name": "python3"
  },
  "language_info": {
   "codemirror_mode": {
    "name": "ipython",
    "version": 3
   },
   "file_extension": ".py",
   "mimetype": "text/x-python",
   "name": "python",
   "nbconvert_exporter": "python",
   "pygments_lexer": "ipython3",
   "version": "3.7.7"
  }
 },
 "nbformat": 4,
 "nbformat_minor": 4
}
